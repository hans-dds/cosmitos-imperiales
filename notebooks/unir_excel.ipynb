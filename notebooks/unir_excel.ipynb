{
 "cells": [
  {
   "cell_type": "markdown",
   "id": "e458b21c",
   "metadata": {},
   "source": [
    "- Los * son datos agregados, se deben contar.\n",
    "- Las columnas vacias significan que no se contesto absolutamente nada, pero son un problema que se debe contar.\n",
    "- Ambas partes de la hoja del calculo son el mismo, realizado en diferentes momentos"
   ]
  },
  {
   "cell_type": "code",
   "execution_count": 1,
   "id": "7e1bb12d",
   "metadata": {},
   "outputs": [],
   "source": [
    "import pandas as pd"
   ]
  },
  {
   "cell_type": "markdown",
   "id": "8112245f",
   "metadata": {},
   "source": [
    "### Crear df de datos"
   ]
  },
  {
   "cell_type": "code",
   "execution_count": 2,
   "id": "66ff66b7",
   "metadata": {},
   "outputs": [],
   "source": [
    "meses = [\"Enero\", \"Febrero\", \"Marzo\", \"Abril\", \"Mayo\", \"Junio\"]\n",
    "hojas = [\"ATC\", \"Encuesta salida\"]\n",
    "dfs = {}"
   ]
  },
  {
   "cell_type": "code",
   "execution_count": 3,
   "id": "6b4dbcd3",
   "metadata": {},
   "outputs": [],
   "source": [
    "for mes in meses:\n",
    "    filename = f\"c_{mes}_2025.xlsx\"\n",
    "    xlsx = pd.ExcelFile(f'./datos_crudos/{filename}', engine='openpyxl')\n",
    "    \n",
    "    for hoja in hojas:\n",
    "        df = pd.read_excel(xlsx, hoja)\n",
    "        key = f\"{mes.lower()}_{hoja.lower().replace(' ', '_')}\"\n",
    "        dfs[key] = df"
   ]
  },
  {
   "cell_type": "code",
   "execution_count": 4,
   "id": "83601b9a",
   "metadata": {},
   "outputs": [
    {
     "data": {
      "text/html": [
       "<div>\n",
       "<style scoped>\n",
       "    .dataframe tbody tr th:only-of-type {\n",
       "        vertical-align: middle;\n",
       "    }\n",
       "\n",
       "    .dataframe tbody tr th {\n",
       "        vertical-align: top;\n",
       "    }\n",
       "\n",
       "    .dataframe thead th {\n",
       "        text-align: right;\n",
       "    }\n",
       "</style>\n",
       "<table border=\"1\" class=\"dataframe\">\n",
       "  <thead>\n",
       "    <tr style=\"text-align: right;\">\n",
       "      <th></th>\n",
       "      <th>Calificacion</th>\n",
       "      <th>Comentarios</th>\n",
       "    </tr>\n",
       "  </thead>\n",
       "  <tbody>\n",
       "    <tr>\n",
       "      <th>0</th>\n",
       "      <td>6</td>\n",
       "      <td>Pesimo servicio en la agencia</td>\n",
       "    </tr>\n",
       "    <tr>\n",
       "      <th>1</th>\n",
       "      <td>NaN</td>\n",
       "      <td>Nuevos</td>\n",
       "    </tr>\n",
       "    <tr>\n",
       "      <th>2</th>\n",
       "      <td>NaN</td>\n",
       "      <td>Se envia whatsapp</td>\n",
       "    </tr>\n",
       "    <tr>\n",
       "      <th>3</th>\n",
       "      <td>NaN</td>\n",
       "      <td>Se envia whatsapp</td>\n",
       "    </tr>\n",
       "    <tr>\n",
       "      <th>4</th>\n",
       "      <td>NaN</td>\n",
       "      <td>Se envia whatsapp</td>\n",
       "    </tr>\n",
       "    <tr>\n",
       "      <th>5</th>\n",
       "      <td>NaN</td>\n",
       "      <td>Se envia whatsapp</td>\n",
       "    </tr>\n",
       "    <tr>\n",
       "      <th>6</th>\n",
       "      <td>NaN</td>\n",
       "      <td>Se envia whatsapp</td>\n",
       "    </tr>\n",
       "    <tr>\n",
       "      <th>7</th>\n",
       "      <td>NaN</td>\n",
       "      <td>Se envia whatsapp</td>\n",
       "    </tr>\n",
       "    <tr>\n",
       "      <th>8</th>\n",
       "      <td>NaN</td>\n",
       "      <td>Se envia whatsapp</td>\n",
       "    </tr>\n",
       "    <tr>\n",
       "      <th>9</th>\n",
       "      <td>NaN</td>\n",
       "      <td>Se envia whatsapp</td>\n",
       "    </tr>\n",
       "    <tr>\n",
       "      <th>10</th>\n",
       "      <td>NaN</td>\n",
       "      <td>Se envia whatsapp</td>\n",
       "    </tr>\n",
       "    <tr>\n",
       "      <th>11</th>\n",
       "      <td>NaN</td>\n",
       "      <td>Se envia whatsapp</td>\n",
       "    </tr>\n",
       "    <tr>\n",
       "      <th>12</th>\n",
       "      <td>10</td>\n",
       "      <td>Solo califica, sin comentarios</td>\n",
       "    </tr>\n",
       "    <tr>\n",
       "      <th>13</th>\n",
       "      <td>NaN</td>\n",
       "      <td>Se envia whatsapp</td>\n",
       "    </tr>\n",
       "  </tbody>\n",
       "</table>\n",
       "</div>"
      ],
      "text/plain": [
       "   Calificacion                      Comentarios\n",
       "0             6   Pesimo servicio en la agencia \n",
       "1           NaN                          Nuevos \n",
       "2           NaN                Se envia whatsapp\n",
       "3           NaN                Se envia whatsapp\n",
       "4           NaN                Se envia whatsapp\n",
       "5           NaN                Se envia whatsapp\n",
       "6           NaN                Se envia whatsapp\n",
       "7           NaN                Se envia whatsapp\n",
       "8           NaN                Se envia whatsapp\n",
       "9           NaN                Se envia whatsapp\n",
       "10          NaN                Se envia whatsapp\n",
       "11          NaN                Se envia whatsapp\n",
       "12           10  Solo califica, sin comentarios \n",
       "13          NaN                Se envia whatsapp"
      ]
     },
     "execution_count": 4,
     "metadata": {},
     "output_type": "execute_result"
    }
   ],
   "source": [
    "dfs['enero_atc'].head(14)  # Display first 14 rows of the ATC sheet for January"
   ]
  },
  {
   "cell_type": "code",
   "execution_count": 5,
   "id": "336def90",
   "metadata": {},
   "outputs": [],
   "source": [
    "lista_contenido = list(dfs.values())\n",
    "df_completo = pd.concat(lista_contenido, ignore_index=True)\n",
    "df_completo.rename(columns={'Calificacion': 'calificacion', 'Comentarios': 'comentarios'}, inplace=True)"
   ]
  },
  {
   "cell_type": "code",
   "execution_count": 6,
   "id": "01acf45e",
   "metadata": {},
   "outputs": [],
   "source": [
    "df_completo[['calificacion', 'comentarios']].to_csv('comentarios_completo.csv', index=False, encoding='utf-8')"
   ]
  }
 ],
 "metadata": {
  "kernelspec": {
   "display_name": "base",
   "language": "python",
   "name": "python3"
  },
  "language_info": {
   "codemirror_mode": {
    "name": "ipython",
    "version": 3
   },
   "file_extension": ".py",
   "mimetype": "text/x-python",
   "name": "python",
   "nbconvert_exporter": "python",
   "pygments_lexer": "ipython3",
   "version": "3.12.7"
  }
 },
 "nbformat": 4,
 "nbformat_minor": 5
}

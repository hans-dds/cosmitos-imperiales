{
 "cells": [
  {
   "cell_type": "code",
   "execution_count": 1,
   "id": "18337792",
   "metadata": {},
   "outputs": [],
   "source": [
    "import pandas as pd\n",
    "import openpyxl as px\n",
    "import numpy as np\n",
    "import matplotlib.pyplot as plt\n",
    "import string\n",
    "import re\n",
    "import unicodedata\n",
    "import emoji\n",
    "import nltk\n",
    "from nltk.tokenize import word_tokenize\n",
    "from nltk.corpus import stopwords \n",
    "from nltk.stem import PorterStemmer\n",
    "from nltk.corpus import stopwords\n",
    "from nltk.stem import SnowballStemmer\n",
    "from nltk.stem import WordNetLemmatizer\n",
    "from sklearn.feature_extraction.text import CountVectorizer\n"
   ]
  },
  {
   "cell_type": "code",
   "execution_count": 2,
   "id": "79801486",
   "metadata": {},
   "outputs": [
    {
     "name": "stderr",
     "output_type": "stream",
     "text": [
      "[nltk_data] Downloading package wordnet to /home/cesar_r/nltk_data...\n",
      "[nltk_data]   Package wordnet is already up-to-date!\n",
      "[nltk_data] Downloading package punkt_tab to\n",
      "[nltk_data]     /home/cesar_r/nltk_data...\n",
      "[nltk_data]   Package punkt_tab is already up-to-date!\n",
      "[nltk_data] Downloading package stopwords to\n",
      "[nltk_data]     /home/cesar_r/nltk_data...\n",
      "[nltk_data]   Package stopwords is already up-to-date!\n"
     ]
    }
   ],
   "source": [
    "nltk.download('wordnet')\n",
    "nltk.download('punkt_tab')\n",
    "nltk.download('stopwords')\n",
    "stemmer = PorterStemmer()\n",
    "lemmatizer = WordNetLemmatizer()\n",
    "SPANISH_STOPWORDS = set(stopwords.words('spanish'))\n"
   ]
  },
  {
   "cell_type": "code",
   "execution_count": 3,
   "id": "707ad0f4",
   "metadata": {},
   "outputs": [],
   "source": [
    "comentarios_clientes = pd.read_csv('../datos_excel/comentarios_limpios.csv')"
   ]
  },
  {
   "cell_type": "code",
   "execution_count": 4,
   "id": "3e1c610c",
   "metadata": {},
   "outputs": [
    {
     "data": {
      "text/plain": [
       "['calificacion', 'comentarios']"
      ]
     },
     "execution_count": 4,
     "metadata": {},
     "output_type": "execute_result"
    }
   ],
   "source": [
    "comentarios_clientes.columns.tolist()"
   ]
  },
  {
   "cell_type": "markdown",
   "id": "cf6d00be",
   "metadata": {},
   "source": [
    "## Eliminar comentarios duplicados"
   ]
  },
  {
   "cell_type": "code",
   "execution_count": 5,
   "id": "4f27b81d",
   "metadata": {},
   "outputs": [
    {
     "name": "stdout",
     "output_type": "stream",
     "text": [
      "Filas totales: 2073\n",
      "Filas duplicadas: 985\n"
     ]
    }
   ],
   "source": [
    "# Ver cuántos duplicados hay antes de eliminar\n",
    "print(f\"Filas totales: {len(comentarios_clientes)}\")\n",
    "print(f\"Filas duplicadas: {comentarios_clientes['comentarios'].duplicated().sum()}\")"
   ]
  },
  {
   "cell_type": "code",
   "execution_count": 6,
   "id": "d79ad4b5",
   "metadata": {},
   "outputs": [
    {
     "data": {
      "text/plain": [
       "1088"
      ]
     },
     "execution_count": 6,
     "metadata": {},
     "output_type": "execute_result"
    }
   ],
   "source": [
    "comentarios_clientes_sin_duplicados = comentarios_clientes.drop_duplicates(subset=['comentarios']).dropna(subset=['comentarios']).reset_index(drop=True)\n",
    "len(comentarios_clientes_sin_duplicados)"
   ]
  },
  {
   "cell_type": "code",
   "execution_count": 7,
   "id": "6930ca1f",
   "metadata": {},
   "outputs": [
    {
     "data": {
      "image/png": "[encoded data removed]",
      "text/plain": [
       "<Figure size 640x480 with 1 Axes>"
      ]
     },
     "metadata": {},
     "output_type": "display_data"
    }
   ],
   "source": [
    "# Gráfica de barras de calificaciones\n",
    "comentarios_clientes_sin_duplicados['calificacion'].value_counts().sort_index().plot(kind='bar')\n",
    "plt.xlabel('Calificación')\n",
    "plt.ylabel('Cantidad de comentarios')\n",
    "plt.title('Distribución de Calificaciones')\n",
    "plt.xticks(rotation=0)\n",
    "plt.show()"
   ]
  },
  {
   "cell_type": "code",
   "execution_count": 8,
   "id": "0e6cbd33",
   "metadata": {},
   "outputs": [],
   "source": [
    "comentarios_clientes_sin_duplicados['Clasificacion'] = None"
   ]
  },
  {
   "cell_type": "code",
   "execution_count": 9,
   "id": "306fa62b",
   "metadata": {},
   "outputs": [],
   "source": [
    "comentarios_clientes_sin_duplicados.to_csv('../datos_excel/comentarios_sin_duplicados.csv')"
   ]
  },
  {
   "cell_type": "code",
   "execution_count": 10,
   "id": "2f548520",
   "metadata": {},
   "outputs": [],
   "source": [
    "clasificacion_clientes = {\n",
    "    -1: 'detractor',\n",
    "    0: 'neutro',\n",
    "    1: 'promotor'\n",
    "}"
   ]
  },
  {
   "cell_type": "code",
   "execution_count": null,
   "id": "ab3efa46",
   "metadata": {},
   "outputs": [
    {
     "name": "stderr",
     "output_type": "stream",
     "text": [
      "/tmp/ipykernel_64074/4279171356.py:1: FutureWarning: ChainedAssignmentError: behaviour will change in pandas 3.0!\n",
      "You are setting values through chained assignment. Currently this works in certain cases, but when using Copy-on-Write (which will become the default behaviour in pandas 3.0) this will never work to update the original DataFrame or Series, because the intermediate object on which we are setting values will behave as a copy.\n",
      "A typical example is when you are setting values in a column of a DataFrame, like:\n",
      "\n",
      "df[\"col\"][row_indexer] = value\n",
      "\n",
      "Use `df.loc[row_indexer, \"col\"] = values` instead, to perform the assignment in a single step and ensure this keeps updating the original `df`.\n",
      "\n",
      "See the caveats in the documentation: https://pandas.pydata.org/pandas-docs/stable/user_guide/indexing.html#returning-a-view-versus-a-copy\n",
      "\n",
      "  comentarios_clientes_sin_duplicados['Clasificacion'].iloc[0] = -1\n",
      "/tmp/ipykernel_64074/4279171356.py:1: SettingWithCopyWarning: \n",
      "A value is trying to be set on a copy of a slice from a DataFrame\n",
      "\n",
      "See the caveats in the documentation: https://pandas.pydata.org/pandas-docs/stable/user_guide/indexing.html#returning-a-view-versus-a-copy\n",
      "  comentarios_clientes_sin_duplicados['Clasificacion'].iloc[0] = -1\n"
     ]
    }
   ],
   "source": [
    "# Etiquetado manual de las primeras 25 filas\n",
    "\n",
    "comentarios_clientes_sin_duplicados['Clasificacion'].iloc[0] = -1 \n",
    "comentarios_clientes_sin_duplicados['Clasificacion'].iloc[1] = -1\n",
    "comentarios_clientes_sin_duplicados['Clasificacion'].iloc[2] = -1\n",
    "comentarios_clientes_sin_duplicados['Clasificacion'].iloc[3] = -1\n",
    "comentarios_clientes_sin_duplicados['Clasificacion'].iloc[4] = -1\n",
    "comentarios_clientes_sin_duplicados['Clasificacion'].iloc[5] = -1\n",
    "comentarios_clientes_sin_duplicados['Clasificacion'].iloc[6] = 1\n",
    "comentarios_clientes_sin_duplicados['Clasificacion'].iloc[7] = 1\n",
    "comentarios_clientes_sin_duplicados['Clasificacion'].iloc[8] = 1\n",
    "comentarios_clientes_sin_duplicados['Clasificacion'].iloc[9] = 1\n",
    "comentarios_clientes_sin_duplicados['Clasificacion'].iloc[10] = 1\n",
    "comentarios_clientes_sin_duplicados['Clasificacion'].iloc[11] = 1\n",
    "comentarios_clientes_sin_duplicados['Clasificacion'].iloc[12] = 1\n",
    "comentarios_clientes_sin_duplicados['Clasificacion'].iloc[13] = 1\n",
    "comentarios_clientes_sin_duplicados['Clasificacion'].iloc[14] = 1\n",
    "comentarios_clientes_sin_duplicados['Clasificacion'].iloc[15] = 1\n",
    "comentarios_clientes_sin_duplicados['Clasificacion'].iloc[16] = 1\n",
    "comentarios_clientes_sin_duplicados['Clasificacion'].iloc[17] = 1\n",
    "comentarios_clientes_sin_duplicados['Clasificacion'].iloc[18] = 1\n",
    "comentarios_clientes_sin_duplicados['Clasificacion'].iloc[19] = 1\n",
    "comentarios_clientes_sin_duplicados['Clasificacion'].iloc[20] = 1\n",
    "comentarios_clientes_sin_duplicados['Clasificacion'].iloc[21] = 1\n",
    "comentarios_clientes_sin_duplicados['Clasificacion'].iloc[22] = 1\n",
    "comentarios_clientes_sin_duplicados['Clasificacion'].iloc[23] = 1\n",
    "comentarios_clientes_sin_duplicados['Clasificacion'].iloc[24] = 1       "
   ]
  },
  {
   "cell_type": "code",
   "execution_count": 15,
   "id": "841261d8",
   "metadata": {},
   "outputs": [
    {
     "data": {
      "application/vnd.microsoft.datawrangler.viewer.v0+json": {
       "columns": [
        {
         "name": "index",
         "rawType": "int64",
         "type": "integer"
        },
        {
         "name": "calificacion",
         "rawType": "int64",
         "type": "integer"
        },
        {
         "name": "comentarios",
         "rawType": "object",
         "type": "string"
        },
        {
         "name": "Clasificacion",
         "rawType": "object",
         "type": "unknown"
        }
       ],
       "ref": "618c65e3-4eba-4311-ba10-a3c4e19f017c",
       "rows": [
        [
         "0",
         "6",
         "pesimo servicio en la agencia",
         "-1"
        ],
        [
         "1",
         "9",
         "nos tardaron mas de 1 hora en recibir y no nos decian nada hasta que tuve que preguntar a la oficial",
         null
        ],
        [
         "2",
         "8",
         "hace falta mas comunicacion con los asesores no contestan hasta 1_2 dias despues no contestan llamadas",
         null
        ],
        [
         "3",
         "8",
         "no lo quisieron recibir",
         null
        ],
        [
         "4",
         "6",
         "el asesor que me toco muy mala atencion la verdad y el trabajo que me hicieron en mi carro muy mal",
         null
        ],
        [
         "5",
         "8",
         "la recepcion del vehiculo bien, puntualidad en recepcion y entrega. lo unico que me gustaria consideraran es no dejar la basura de los empaques de las refacciones que se cambiaron, me las dejaron al interior de mi vehiculo sobre el asiento de copiloto , por otro lado , siento que me entregaron muy rapido y me dijeron que ya me podia retirar y habia un auto frente a mi por lo cual no podia salir y no habia nadie que estuviera al pendiente. simplemente me entregaron el vehiculo y se olvidaron de mi. hasta que alguien vio que necesitaba salir y me ayudaron a mover el coche.",
         null
        ],
        [
         "6",
         "6",
         "existe una situacion complicada, ya que me entregaron mi camioneta, con una pantalla rota y danada",
         null
        ],
        [
         "7",
         "8",
         "la misma aplicacion me cambio la fecha que habia programado, por eso, di esa calificacion hice una cita por internet, me llamaron para decirme que la pagina estaba mal, me cambiaron la cita, di una fecha que fue el 7 de enero para llevar el vehiculo y despues me llegaron mensajes de que mi cita estaba agendada para el 6",
         null
        ],
        [
         "8",
         "6",
         "pedi que se cambiara el filtro de cabina y los wipers y no se hizo y no hubo contacto ni nada con el asesor",
         null
        ],
        [
         "9",
         "6",
         "el servicio estuvo deficiente y no se hizo al 100% siendo que lo pague completo, la atencion pesima e incluso me sugirieron el cambio de algunas cosas mismas que acepte que se las cambiaran pese a que me dijeron que me enviarian la cotizacion el mismo dia que entro la unidad y si no es porque se los pedi al dia siguiente nuevamente no me lo envian, me envian una cotizacion de otra unidad, les notifico y me envian por fin la de mi unidad",
         null
        ],
        [
         "10",
         "10",
         "muy bien",
         null
        ],
        [
         "11",
         "6",
         "por este medio pongo mi queja que lleve mi camioneta a servicio no me dieron la horientacion adecuada y a su vez me estoy dando cuenta el dia de hoy que cambiaron mis limpiadores que los habia cambiado en el mes de noviembre y me pusieron unos rotos del hule y del cuerpo de la pluma, los invito a que supervisen para que esto lo pase por que la mala imagen se queda para la empresa. pd ojala no me hayan cambiado otras cosas",
         null
        ],
        [
         "12",
         "6",
         "unidad se entrego sucia",
         null
        ],
        [
         "13",
         "6",
         "el servicio pesimo, atencion nefasta",
         null
        ],
        [
         "14",
         "6",
         "no me han resuelto mi problema",
         null
        ],
        [
         "15",
         "8",
         "muy probable pero carisimo",
         null
        ],
        [
         "16",
         "6",
         "se tardan mucho para recibir y entregar a pesar de hacer cita, y par la entrega de la factura es muy burocratico su proceso",
         null
        ],
        [
         "17",
         "8",
         "manifiesto que no tienen personal para atender oportunamente la demanda de servicios. no realizan valoraciones (escaneos) a las unidades, pese a las observaciones que se les hacen al present",
         null
        ],
        [
         "18",
         "8",
         "el carro se entrego hora y media despues de lo pactado.",
         null
        ],
        [
         "19",
         "6",
         "me regresaron el coche con unas gotitas de pintura blanca alrededor de toda mi unidad 😰, me dijeron que me contactarian para darle seguimiento al caso y la pudiera llevar para que las quiten. fue el unico inconveniente que hubo, fuera de ahi, todo muy bien. 😊",
         null
        ],
        [
         "20",
         "10",
         "excelente muchas gracias",
         null
        ],
        [
         "21",
         "8",
         "para empezar aun no tengo los archivos de la factura del servicio",
         null
        ],
        [
         "22",
         "6",
         "reporto la guantera rota",
         null
        ],
        [
         "23",
         "8",
         "por que cuando he llevado el vehiculo no me dicen bien que es y exageran los precios e incluso los problemas que se presentan, ademas de que no dan facilidades para ingreso y egreso de los servicios",
         null
        ],
        [
         "24",
         "8",
         "muy buenas tardes. el motivo es muy sencillo, por favor preguntele al jefe de servicio los porques? el ya envio un correo electronico solicitando apoyo para resolver dos pendientes de la captiva que llevamos a servicio. es importante senalar que soy su cliente desde hace mas de 10 anos. mi esposa con sus dos aveos 2014 y 2022. mi hijo con su captiva 2023. seguimos en contacto.",
         null
        ]
       ],
       "shape": {
        "columns": 3,
        "rows": 25
       }
      },
      "text/html": [
       "<div>\n",
       "<style scoped>\n",
       "    .dataframe tbody tr th:only-of-type {\n",
       "        vertical-align: middle;\n",
       "    }\n",
       "\n",
       "    .dataframe tbody tr th {\n",
       "        vertical-align: top;\n",
       "    }\n",
       "\n",
       "    .dataframe thead th {\n",
       "        text-align: right;\n",
       "    }\n",
       "</style>\n",
       "<table border=\"1\" class=\"dataframe\">\n",
       "  <thead>\n",
       "    <tr style=\"text-align: right;\">\n",
       "      <th></th>\n",
       "      <th>calificacion</th>\n",
       "      <th>comentarios</th>\n",
       "      <th>Clasificacion</th>\n",
       "    </tr>\n",
       "  </thead>\n",
       "  <tbody>\n",
       "    <tr>\n",
       "      <th>0</th>\n",
       "      <td>6</td>\n",
       "      <td>pesimo servicio en la agencia</td>\n",
       "      <td>-1</td>\n",
       "    </tr>\n",
       "    <tr>\n",
       "      <th>1</th>\n",
       "      <td>9</td>\n",
       "      <td>nos tardaron mas de 1 hora en recibir y no nos...</td>\n",
       "      <td>None</td>\n",
       "    </tr>\n",
       "    <tr>\n",
       "      <th>2</th>\n",
       "      <td>8</td>\n",
       "      <td>hace falta mas comunicacion con los asesores n...</td>\n",
       "      <td>None</td>\n",
       "    </tr>\n",
       "    <tr>\n",
       "      <th>3</th>\n",
       "      <td>8</td>\n",
       "      <td>no lo quisieron recibir</td>\n",
       "      <td>None</td>\n",
       "    </tr>\n",
       "    <tr>\n",
       "      <th>4</th>\n",
       "      <td>6</td>\n",
       "      <td>el asesor que me toco muy mala atencion la ver...</td>\n",
       "      <td>None</td>\n",
       "    </tr>\n",
       "    <tr>\n",
       "      <th>5</th>\n",
       "      <td>8</td>\n",
       "      <td>la recepcion del vehiculo bien, puntualidad en...</td>\n",
       "      <td>None</td>\n",
       "    </tr>\n",
       "    <tr>\n",
       "      <th>6</th>\n",
       "      <td>6</td>\n",
       "      <td>existe una situacion complicada, ya que me ent...</td>\n",
       "      <td>None</td>\n",
       "    </tr>\n",
       "    <tr>\n",
       "      <th>7</th>\n",
       "      <td>8</td>\n",
       "      <td>la misma aplicacion me cambio la fecha que hab...</td>\n",
       "      <td>None</td>\n",
       "    </tr>\n",
       "    <tr>\n",
       "      <th>8</th>\n",
       "      <td>6</td>\n",
       "      <td>pedi que se cambiara el filtro de cabina y los...</td>\n",
       "      <td>None</td>\n",
       "    </tr>\n",
       "    <tr>\n",
       "      <th>9</th>\n",
       "      <td>6</td>\n",
       "      <td>el servicio estuvo deficiente y no se hizo al ...</td>\n",
       "      <td>None</td>\n",
       "    </tr>\n",
       "    <tr>\n",
       "      <th>10</th>\n",
       "      <td>10</td>\n",
       "      <td>muy bien</td>\n",
       "      <td>None</td>\n",
       "    </tr>\n",
       "    <tr>\n",
       "      <th>11</th>\n",
       "      <td>6</td>\n",
       "      <td>por este medio pongo mi queja que lleve mi cam...</td>\n",
       "      <td>None</td>\n",
       "    </tr>\n",
       "    <tr>\n",
       "      <th>12</th>\n",
       "      <td>6</td>\n",
       "      <td>unidad se entrego sucia</td>\n",
       "      <td>None</td>\n",
       "    </tr>\n",
       "    <tr>\n",
       "      <th>13</th>\n",
       "      <td>6</td>\n",
       "      <td>el servicio pesimo, atencion nefasta</td>\n",
       "      <td>None</td>\n",
       "    </tr>\n",
       "    <tr>\n",
       "      <th>14</th>\n",
       "      <td>6</td>\n",
       "      <td>no me han resuelto mi problema</td>\n",
       "      <td>None</td>\n",
       "    </tr>\n",
       "    <tr>\n",
       "      <th>15</th>\n",
       "      <td>8</td>\n",
       "      <td>muy probable pero carisimo</td>\n",
       "      <td>None</td>\n",
       "    </tr>\n",
       "    <tr>\n",
       "      <th>16</th>\n",
       "      <td>6</td>\n",
       "      <td>se tardan mucho para recibir y entregar a pesa...</td>\n",
       "      <td>None</td>\n",
       "    </tr>\n",
       "    <tr>\n",
       "      <th>17</th>\n",
       "      <td>8</td>\n",
       "      <td>manifiesto que no tienen personal para atender...</td>\n",
       "      <td>None</td>\n",
       "    </tr>\n",
       "    <tr>\n",
       "      <th>18</th>\n",
       "      <td>8</td>\n",
       "      <td>el carro se entrego hora y media despues de lo...</td>\n",
       "      <td>None</td>\n",
       "    </tr>\n",
       "    <tr>\n",
       "      <th>19</th>\n",
       "      <td>6</td>\n",
       "      <td>me regresaron el coche con unas gotitas de pin...</td>\n",
       "      <td>None</td>\n",
       "    </tr>\n",
       "    <tr>\n",
       "      <th>20</th>\n",
       "      <td>10</td>\n",
       "      <td>excelente muchas gracias</td>\n",
       "      <td>None</td>\n",
       "    </tr>\n",
       "    <tr>\n",
       "      <th>21</th>\n",
       "      <td>8</td>\n",
       "      <td>para empezar aun no tengo los archivos de la f...</td>\n",
       "      <td>None</td>\n",
       "    </tr>\n",
       "    <tr>\n",
       "      <th>22</th>\n",
       "      <td>6</td>\n",
       "      <td>reporto la guantera rota</td>\n",
       "      <td>None</td>\n",
       "    </tr>\n",
       "    <tr>\n",
       "      <th>23</th>\n",
       "      <td>8</td>\n",
       "      <td>por que cuando he llevado el vehiculo no me di...</td>\n",
       "      <td>None</td>\n",
       "    </tr>\n",
       "    <tr>\n",
       "      <th>24</th>\n",
       "      <td>8</td>\n",
       "      <td>muy buenas tardes. el motivo es muy sencillo, ...</td>\n",
       "      <td>None</td>\n",
       "    </tr>\n",
       "  </tbody>\n",
       "</table>\n",
       "</div>"
      ],
      "text/plain": [
       "    calificacion                                        comentarios  \\\n",
       "0              6                      pesimo servicio en la agencia   \n",
       "1              9  nos tardaron mas de 1 hora en recibir y no nos...   \n",
       "2              8  hace falta mas comunicacion con los asesores n...   \n",
       "3              8                            no lo quisieron recibir   \n",
       "4              6  el asesor que me toco muy mala atencion la ver...   \n",
       "5              8  la recepcion del vehiculo bien, puntualidad en...   \n",
       "6              6  existe una situacion complicada, ya que me ent...   \n",
       "7              8  la misma aplicacion me cambio la fecha que hab...   \n",
       "8              6  pedi que se cambiara el filtro de cabina y los...   \n",
       "9              6  el servicio estuvo deficiente y no se hizo al ...   \n",
       "10            10                                           muy bien   \n",
       "11             6  por este medio pongo mi queja que lleve mi cam...   \n",
       "12             6                            unidad se entrego sucia   \n",
       "13             6               el servicio pesimo, atencion nefasta   \n",
       "14             6                     no me han resuelto mi problema   \n",
       "15             8                         muy probable pero carisimo   \n",
       "16             6  se tardan mucho para recibir y entregar a pesa...   \n",
       "17             8  manifiesto que no tienen personal para atender...   \n",
       "18             8  el carro se entrego hora y media despues de lo...   \n",
       "19             6  me regresaron el coche con unas gotitas de pin...   \n",
       "20            10                           excelente muchas gracias   \n",
       "21             8  para empezar aun no tengo los archivos de la f...   \n",
       "22             6                           reporto la guantera rota   \n",
       "23             8  por que cuando he llevado el vehiculo no me di...   \n",
       "24             8  muy buenas tardes. el motivo es muy sencillo, ...   \n",
       "\n",
       "   Clasificacion  \n",
       "0             -1  \n",
       "1           None  \n",
       "2           None  \n",
       "3           None  \n",
       "4           None  \n",
       "5           None  \n",
       "6           None  \n",
       "7           None  \n",
       "8           None  \n",
       "9           None  \n",
       "10          None  \n",
       "11          None  \n",
       "12          None  \n",
       "13          None  \n",
       "14          None  \n",
       "15          None  \n",
       "16          None  \n",
       "17          None  \n",
       "18          None  \n",
       "19          None  \n",
       "20          None  \n",
       "21          None  \n",
       "22          None  \n",
       "23          None  \n",
       "24          None  "
      ]
     },
     "execution_count": 15,
     "metadata": {},
     "output_type": "execute_result"
    }
   ],
   "source": [
    "comentarios_clientes_sin_duplicados.head(25)"
   ]
  },
  {
   "cell_type": "code",
   "execution_count": 12,
   "id": "d6cfab4c",
   "metadata": {},
   "outputs": [],
   "source": [
    "NEGATIONS = {\"no\", \"nunca\", \"jamás\", \"ni\", \"nadie\", \"nada\", \"ninguno\", \"ninguna\"}\n",
    "SPANISH_STOPWORDS_SANS_NEG = SPANISH_STOPWORDS - NEGATIONS\n",
    "\n",
    "STEMMER_ES = SnowballStemmer('spanish')\n",
    "\n",
    "# Carga opcional de Spacy para lematizar en español\n",
    "try:\n",
    "    import spacy\n",
    "    try:\n",
    "        NLP_ES = spacy.load(\"es_core_news_sm\", disable=[\"ner\", \"parser\", \"tok2vec\", \"senter\"])\n",
    "    except OSError:\n",
    "        # Si el modelo no está instalado, usa un pipeline vacío (lemmatiza pobremente)\n",
    "        NLP_ES = spacy.blank(\"es\")\n",
    "except Exception:\n",
    "    NLP_ES = None  # lematización deshabilitada si no hay spacy\n",
    "\n"
   ]
  },
  {
   "cell_type": "code",
   "execution_count": 13,
   "id": "c30dc951",
   "metadata": {},
   "outputs": [],
   "source": [
    "def preprocess_text(text, stop_words=True, stemming=True, lemmatization=True):\n",
    "    # Convertir a minúsculas\n",
    "    text = text.lower()\n",
    "\n",
    "    # Eliminar puntuación y emojis\n",
    "    text = text.translate(str.maketrans('', '', string.punctuation))\n",
    "    text = emoji.replace_emoji(text, replace='')\n",
    "\n",
    "    # Tokenización\n",
    "    tokens = word_tokenize(text)\n",
    "    \n",
    "    # Eliminar stopwords\n",
    "    if stop_words:\n",
    "        tokens = [word for word in tokens if word not in SPANISH_STOPWORDS_SANS_NEG]\n",
    "\n",
    "    # Stemming y lematización\n",
    "    if stemming:\n",
    "        tokens = [STEMMER_ES.stem(word) for word in tokens]\n",
    "    if lemmatization and NLP_ES:\n",
    "        tokens = [token.lemma_ for token in NLP_ES(tokens)]\n",
    "\n",
    "    return ' '.join(tokens)"
   ]
  },
  {
   "cell_type": "code",
   "execution_count": 14,
   "id": "ece05b0b",
   "metadata": {},
   "outputs": [],
   "source": [
    "comentarios_clientes_sin_duplicados['comentarios_procesados'] =comentarios_clientes_sin_duplicados['comentarios'].apply(preprocess_text)"
   ]
  }
 ],
 "metadata": {
  "kernelspec": {
   "display_name": ".venv",
   "language": "python",
   "name": "python3"
  },
  "language_info": {
   "codemirror_mode": {
    "name": "ipython",
    "version": 3
   },
   "file_extension": ".py",
   "mimetype": "text/x-python",
   "name": "python",
   "nbconvert_exporter": "python",
   "pygments_lexer": "ipython3",
   "version": "3.13.7"
  }
 },
 "nbformat": 4,
 "nbformat_minor": 5
}
